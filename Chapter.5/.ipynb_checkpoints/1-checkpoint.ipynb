{
 "cells": [
  {
   "cell_type": "markdown",
   "metadata": {},
   "source": [
    "Chapter 5<br/>\n",
    "< Numerical Python - Numpy >\n",
    "===============================\n",
    "\n",
    "\n",
    "### 코드로 방정식 표현하기\n",
    "- 2x₁ + 2x₂ + x₃ = 9<br/>\n",
    "2x₁ - x₂ + 2x₃ = 6<br/>\n",
    "x₁ - x₂ + 2x₃ = 5\n",
    "- [2 2 1 9]<br/>\n",
    "[2 -1 2 5]<br/>\n",
    "[1 -1 2 5]\n",
    "\n",
    "```\n",
    "coefficient_matrix = [[2, 2, 1], [2, -1, 2], [1, -1, 2]]\n",
    "constant_vector = [9, 6, 5]\n",
    "```\n",
    "\n",
    "- 다양한 Matrix 계산을 어떻게 만들 것인가?\n",
    "- 굉장히 큰 Matrix에 대한 표현\n",
    "- 처리 속도 문제 -> 파이썬은 Interpreter 언어\n",
    "> 적절한 패키지를 활용하는 것은 좋은 방법"
   ]
  },
  {
   "cell_type": "code",
   "execution_count": null,
   "metadata": {},
   "outputs": [],
   "source": []
  }
 ],
 "metadata": {
  "kernelspec": {
   "display_name": "Python 3",
   "language": "python",
   "name": "python3"
  },
  "language_info": {
   "codemirror_mode": {
    "name": "ipython",
    "version": 3
   },
   "file_extension": ".py",
   "mimetype": "text/x-python",
   "name": "python",
   "nbconvert_exporter": "python",
   "pygments_lexer": "ipython3",
   "version": "3.6.5"
  }
 },
 "nbformat": 4,
 "nbformat_minor": 2
}
