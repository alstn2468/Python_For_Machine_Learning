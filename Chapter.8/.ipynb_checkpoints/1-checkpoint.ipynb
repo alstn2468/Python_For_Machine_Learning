{
 "cells": [
  {
   "cell_type": "markdown",
   "metadata": {},
   "source": [
    "Chapter 8<br/>\n",
    "< Kaggle >\n",
    "===============================\n",
    "\n",
    "### Kaggle Project #1 - Bike Sharing Demand\n",
    "- Source: https://www.kaggle.com/c/bike-sharing-demand\n",
    "\n",
    "### Dataset\n",
    "- datetime\n",
    "    + hourly date + timestamp\n",
    "- season \n",
    "    + 1 = spring\n",
    "    + 2 = summer\n",
    "    + 3 = fall\n",
    "    + 4 = winter\n",
    "- holiday\n",
    "    + whether the day is considered a holiday\n",
    "- workingday\n",
    "    + whether the day is neither a weekend nor holiday\n",
    "- weather\n",
    "    + 1: Clear, Few clouds, Partly cloudy, Partly cloudy\n",
    "    + 2: Mist + Cloudy, Mist + Broken clouds, Mist + Few clouds, Mist\n",
    "    + 3: Light Snow, Light Rain + Thunderstorm + Scattered clouds, Light Rain + Scattered clouds\n",
    "    + 4: Heavy Rain + Ice Pallets + Thunderstorm + Mist, Snow + Fog\n",
    "- temp\n",
    "    + temperature in Celsius\n",
    "- atemp\n",
    "    + \"feels like\" temperature in Celsius\n",
    "- humidity\n",
    "    + relative humidity\n",
    "- windspeed\n",
    "    + wind speed\n",
    "- casual\n",
    "    + number of non-registered user rentals initiated\n",
    "- registered\n",
    "    + number of registered user rentals initiated\n",
    "- count\n",
    "    + number of total rentals\n",
    "    \n",
    "### Evaluation metrics\n",
    "**RMSLE(Root Mean Squared Logarithmic Error)**\n",
    "\n",
    "$$\n",
    "\\sqrt{\\frac{1}{n} \\sum_{i=1}^n (\\log(p_i + 1) - \\log(a_i+1))^2 }\n",
    "$$\n",
    "\n",
    "- n  is the number of hours in the test set\n",
    "- pi is your predicted count\n",
    "- ai is the actual count\n",
    "- log(x) is the natural logarithm"
   ]
  },
  {
   "cell_type": "code",
   "execution_count": 1,
   "metadata": {},
   "outputs": [],
   "source": [
    "import pandas as pd\n",
    "import numpy as np\n",
    "import matplotlib.pyplot as plt\n",
    "\n",
    "import warnings\n",
    "warnings.filterwarnings(action='ignore')"
   ]
  },
  {
   "cell_type": "code",
   "execution_count": 2,
   "metadata": {},
   "outputs": [],
   "source": [
    "test_df = pd.read_csv(\"./test.csv\", parse_dates=[\"datetime\"])\n",
    "train_df = pd.read_csv(\"./train.csv\", parse_dates=[\"datetime\"])"
   ]
  },
  {
   "cell_type": "markdown",
   "metadata": {},
   "source": [
    "#### 1. Train Data와 Test Data를 Concat\n",
    "- 그냥 붙이게 되면 index 중복이 생기므로 **reset_index()**"
   ]
  },
  {
   "cell_type": "code",
   "execution_count": 3,
   "metadata": {},
   "outputs": [
    {
     "data": {
      "text/html": [
       "<div>\n",
       "<style>\n",
       "    .dataframe thead tr:only-child th {\n",
       "        text-align: right;\n",
       "    }\n",
       "\n",
       "    .dataframe thead th {\n",
       "        text-align: left;\n",
       "    }\n",
       "\n",
       "    .dataframe tbody tr th {\n",
       "        vertical-align: top;\n",
       "    }\n",
       "</style>\n",
       "<table border=\"1\" class=\"dataframe\">\n",
       "  <thead>\n",
       "    <tr style=\"text-align: right;\">\n",
       "      <th></th>\n",
       "      <th>index</th>\n",
       "      <th>atemp</th>\n",
       "      <th>casual</th>\n",
       "      <th>count</th>\n",
       "      <th>datetime</th>\n",
       "      <th>holiday</th>\n",
       "      <th>humidity</th>\n",
       "      <th>registered</th>\n",
       "      <th>season</th>\n",
       "      <th>temp</th>\n",
       "      <th>weather</th>\n",
       "      <th>windspeed</th>\n",
       "      <th>workingday</th>\n",
       "    </tr>\n",
       "  </thead>\n",
       "  <tbody>\n",
       "    <tr>\n",
       "      <th>0</th>\n",
       "      <td>0</td>\n",
       "      <td>14.395</td>\n",
       "      <td>3.0</td>\n",
       "      <td>16.0</td>\n",
       "      <td>2011-01-01 00:00:00</td>\n",
       "      <td>0</td>\n",
       "      <td>81</td>\n",
       "      <td>13.0</td>\n",
       "      <td>1</td>\n",
       "      <td>9.84</td>\n",
       "      <td>1</td>\n",
       "      <td>0.0</td>\n",
       "      <td>0</td>\n",
       "    </tr>\n",
       "    <tr>\n",
       "      <th>1</th>\n",
       "      <td>1</td>\n",
       "      <td>13.635</td>\n",
       "      <td>8.0</td>\n",
       "      <td>40.0</td>\n",
       "      <td>2011-01-01 01:00:00</td>\n",
       "      <td>0</td>\n",
       "      <td>80</td>\n",
       "      <td>32.0</td>\n",
       "      <td>1</td>\n",
       "      <td>9.02</td>\n",
       "      <td>1</td>\n",
       "      <td>0.0</td>\n",
       "      <td>0</td>\n",
       "    </tr>\n",
       "    <tr>\n",
       "      <th>2</th>\n",
       "      <td>2</td>\n",
       "      <td>13.635</td>\n",
       "      <td>5.0</td>\n",
       "      <td>32.0</td>\n",
       "      <td>2011-01-01 02:00:00</td>\n",
       "      <td>0</td>\n",
       "      <td>80</td>\n",
       "      <td>27.0</td>\n",
       "      <td>1</td>\n",
       "      <td>9.02</td>\n",
       "      <td>1</td>\n",
       "      <td>0.0</td>\n",
       "      <td>0</td>\n",
       "    </tr>\n",
       "    <tr>\n",
       "      <th>3</th>\n",
       "      <td>3</td>\n",
       "      <td>14.395</td>\n",
       "      <td>3.0</td>\n",
       "      <td>13.0</td>\n",
       "      <td>2011-01-01 03:00:00</td>\n",
       "      <td>0</td>\n",
       "      <td>75</td>\n",
       "      <td>10.0</td>\n",
       "      <td>1</td>\n",
       "      <td>9.84</td>\n",
       "      <td>1</td>\n",
       "      <td>0.0</td>\n",
       "      <td>0</td>\n",
       "    </tr>\n",
       "    <tr>\n",
       "      <th>4</th>\n",
       "      <td>4</td>\n",
       "      <td>14.395</td>\n",
       "      <td>0.0</td>\n",
       "      <td>1.0</td>\n",
       "      <td>2011-01-01 04:00:00</td>\n",
       "      <td>0</td>\n",
       "      <td>75</td>\n",
       "      <td>1.0</td>\n",
       "      <td>1</td>\n",
       "      <td>9.84</td>\n",
       "      <td>1</td>\n",
       "      <td>0.0</td>\n",
       "      <td>0</td>\n",
       "    </tr>\n",
       "  </tbody>\n",
       "</table>\n",
       "</div>"
      ],
      "text/plain": [
       "   index   atemp  casual  count            datetime  holiday  humidity  \\\n",
       "0      0  14.395     3.0   16.0 2011-01-01 00:00:00        0        81   \n",
       "1      1  13.635     8.0   40.0 2011-01-01 01:00:00        0        80   \n",
       "2      2  13.635     5.0   32.0 2011-01-01 02:00:00        0        80   \n",
       "3      3  14.395     3.0   13.0 2011-01-01 03:00:00        0        75   \n",
       "4      4  14.395     0.0    1.0 2011-01-01 04:00:00        0        75   \n",
       "\n",
       "   registered  season  temp  weather  windspeed  workingday  \n",
       "0        13.0       1  9.84        1        0.0           0  \n",
       "1        32.0       1  9.02        1        0.0           0  \n",
       "2        27.0       1  9.02        1        0.0           0  \n",
       "3        10.0       1  9.84        1        0.0           0  \n",
       "4         1.0       1  9.84        1        0.0           0  "
      ]
     },
     "execution_count": 3,
     "metadata": {},
     "output_type": "execute_result"
    }
   ],
   "source": [
    "all_df = pd.concat((train_df, test_df), axis=0).reset_index()\n",
    "all_df.head()"
   ]
  },
  {
   "cell_type": "code",
   "execution_count": 4,
   "metadata": {
    "scrolled": true
   },
   "outputs": [
    {
     "data": {
      "text/html": [
       "<div>\n",
       "<style>\n",
       "    .dataframe thead tr:only-child th {\n",
       "        text-align: right;\n",
       "    }\n",
       "\n",
       "    .dataframe thead th {\n",
       "        text-align: left;\n",
       "    }\n",
       "\n",
       "    .dataframe tbody tr th {\n",
       "        vertical-align: top;\n",
       "    }\n",
       "</style>\n",
       "<table border=\"1\" class=\"dataframe\">\n",
       "  <thead>\n",
       "    <tr style=\"text-align: right;\">\n",
       "      <th></th>\n",
       "      <th>index</th>\n",
       "      <th>atemp</th>\n",
       "      <th>casual</th>\n",
       "      <th>count</th>\n",
       "      <th>datetime</th>\n",
       "      <th>holiday</th>\n",
       "      <th>humidity</th>\n",
       "      <th>registered</th>\n",
       "      <th>season</th>\n",
       "      <th>temp</th>\n",
       "      <th>weather</th>\n",
       "      <th>windspeed</th>\n",
       "      <th>workingday</th>\n",
       "    </tr>\n",
       "  </thead>\n",
       "  <tbody>\n",
       "    <tr>\n",
       "      <th>17374</th>\n",
       "      <td>6488</td>\n",
       "      <td>12.880</td>\n",
       "      <td>NaN</td>\n",
       "      <td>NaN</td>\n",
       "      <td>2012-12-31 19:00:00</td>\n",
       "      <td>0</td>\n",
       "      <td>60</td>\n",
       "      <td>NaN</td>\n",
       "      <td>1</td>\n",
       "      <td>10.66</td>\n",
       "      <td>2</td>\n",
       "      <td>11.0014</td>\n",
       "      <td>1</td>\n",
       "    </tr>\n",
       "    <tr>\n",
       "      <th>17375</th>\n",
       "      <td>6489</td>\n",
       "      <td>12.880</td>\n",
       "      <td>NaN</td>\n",
       "      <td>NaN</td>\n",
       "      <td>2012-12-31 20:00:00</td>\n",
       "      <td>0</td>\n",
       "      <td>60</td>\n",
       "      <td>NaN</td>\n",
       "      <td>1</td>\n",
       "      <td>10.66</td>\n",
       "      <td>2</td>\n",
       "      <td>11.0014</td>\n",
       "      <td>1</td>\n",
       "    </tr>\n",
       "    <tr>\n",
       "      <th>17376</th>\n",
       "      <td>6490</td>\n",
       "      <td>12.880</td>\n",
       "      <td>NaN</td>\n",
       "      <td>NaN</td>\n",
       "      <td>2012-12-31 21:00:00</td>\n",
       "      <td>0</td>\n",
       "      <td>60</td>\n",
       "      <td>NaN</td>\n",
       "      <td>1</td>\n",
       "      <td>10.66</td>\n",
       "      <td>1</td>\n",
       "      <td>11.0014</td>\n",
       "      <td>1</td>\n",
       "    </tr>\n",
       "    <tr>\n",
       "      <th>17377</th>\n",
       "      <td>6491</td>\n",
       "      <td>13.635</td>\n",
       "      <td>NaN</td>\n",
       "      <td>NaN</td>\n",
       "      <td>2012-12-31 22:00:00</td>\n",
       "      <td>0</td>\n",
       "      <td>56</td>\n",
       "      <td>NaN</td>\n",
       "      <td>1</td>\n",
       "      <td>10.66</td>\n",
       "      <td>1</td>\n",
       "      <td>8.9981</td>\n",
       "      <td>1</td>\n",
       "    </tr>\n",
       "    <tr>\n",
       "      <th>17378</th>\n",
       "      <td>6492</td>\n",
       "      <td>13.635</td>\n",
       "      <td>NaN</td>\n",
       "      <td>NaN</td>\n",
       "      <td>2012-12-31 23:00:00</td>\n",
       "      <td>0</td>\n",
       "      <td>65</td>\n",
       "      <td>NaN</td>\n",
       "      <td>1</td>\n",
       "      <td>10.66</td>\n",
       "      <td>1</td>\n",
       "      <td>8.9981</td>\n",
       "      <td>1</td>\n",
       "    </tr>\n",
       "  </tbody>\n",
       "</table>\n",
       "</div>"
      ],
      "text/plain": [
       "       index   atemp  casual  count            datetime  holiday  humidity  \\\n",
       "17374   6488  12.880     NaN    NaN 2012-12-31 19:00:00        0        60   \n",
       "17375   6489  12.880     NaN    NaN 2012-12-31 20:00:00        0        60   \n",
       "17376   6490  12.880     NaN    NaN 2012-12-31 21:00:00        0        60   \n",
       "17377   6491  13.635     NaN    NaN 2012-12-31 22:00:00        0        56   \n",
       "17378   6492  13.635     NaN    NaN 2012-12-31 23:00:00        0        65   \n",
       "\n",
       "       registered  season   temp  weather  windspeed  workingday  \n",
       "17374         NaN       1  10.66        2    11.0014           1  \n",
       "17375         NaN       1  10.66        2    11.0014           1  \n",
       "17376         NaN       1  10.66        1    11.0014           1  \n",
       "17377         NaN       1  10.66        1     8.9981           1  \n",
       "17378         NaN       1  10.66        1     8.9981           1  "
      ]
     },
     "execution_count": 4,
     "metadata": {},
     "output_type": "execute_result"
    }
   ],
   "source": [
    "all_df.tail()"
   ]
  },
  {
   "cell_type": "markdown",
   "metadata": {},
   "source": [
    "train_index : 0 ~ 10885<br/>\n",
    "test_index : 10886 ~ 17378<br/>\n",
    "\n",
    "### 두 개의 데이터를 합치는 이유\n",
    "- 같은 기준으로 feature 값을 바꿔주기 위하여\n",
    "- 같은 함수를 두 번 사용하지 않게 하기 위해서"
   ]
  },
  {
   "cell_type": "code",
   "execution_count": 5,
   "metadata": {},
   "outputs": [],
   "source": [
    "train_index = list(range(len(train_df)))\n",
    "test_index = list(range(len(train_df), len(all_df)))"
   ]
  },
  {
   "cell_type": "code",
   "execution_count": 6,
   "metadata": {},
   "outputs": [
    {
     "data": {
      "text/plain": [
       "index            0\n",
       "atemp            0\n",
       "casual        6493\n",
       "count         6493\n",
       "datetime         0\n",
       "holiday          0\n",
       "humidity         0\n",
       "registered    6493\n",
       "season           0\n",
       "temp             0\n",
       "weather          0\n",
       "windspeed        0\n",
       "workingday       0\n",
       "dtype: int64"
      ]
     },
     "execution_count": 6,
     "metadata": {},
     "output_type": "execute_result"
    }
   ],
   "source": [
    "all_df.isnull().sum()"
   ]
  },
  {
   "cell_type": "markdown",
   "metadata": {},
   "source": [
    "### RMSLE(Root Mean Squared Logarithmic Error)\n",
    "\n",
    "$$\n",
    "\\sqrt{\\frac{1}{n} \\sum_{i=1}^n (\\log(p_i + 1) - \\log(a_i+1))^2 }\n",
    "$$\n",
    "\n",
    "0보다 작은 값이 나올 수 있으므로 `nan_to_num`사용<br/>\n",
    "`nan`값을 숫자로 변경시켜 준다."
   ]
  },
  {
   "cell_type": "code",
   "execution_count": 7,
   "metadata": {},
   "outputs": [],
   "source": [
    "def rmsle(y, y_):\n",
    "    log1 = np.nan_to_num(np.log(y + 1))\n",
    "    log2 = np.nan_to_num(np.log(y_ + 1))\n",
    "    calc = (log1 - log2) ** 2\n",
    "    return np.sqrt(np.mean(calc))"
   ]
  },
  {
   "cell_type": "code",
   "execution_count": 8,
   "metadata": {},
   "outputs": [
    {
     "data": {
      "text/html": [
       "<div>\n",
       "<style>\n",
       "    .dataframe thead tr:only-child th {\n",
       "        text-align: right;\n",
       "    }\n",
       "\n",
       "    .dataframe thead th {\n",
       "        text-align: left;\n",
       "    }\n",
       "\n",
       "    .dataframe tbody tr th {\n",
       "        vertical-align: top;\n",
       "    }\n",
       "</style>\n",
       "<table border=\"1\" class=\"dataframe\">\n",
       "  <thead>\n",
       "    <tr style=\"text-align: right;\">\n",
       "      <th></th>\n",
       "      <th>datetime</th>\n",
       "      <th>count</th>\n",
       "    </tr>\n",
       "  </thead>\n",
       "  <tbody>\n",
       "    <tr>\n",
       "      <th>0</th>\n",
       "      <td>2011-01-20 00:00:00</td>\n",
       "      <td>0</td>\n",
       "    </tr>\n",
       "    <tr>\n",
       "      <th>1</th>\n",
       "      <td>2011-01-20 01:00:00</td>\n",
       "      <td>0</td>\n",
       "    </tr>\n",
       "    <tr>\n",
       "      <th>2</th>\n",
       "      <td>2011-01-20 02:00:00</td>\n",
       "      <td>0</td>\n",
       "    </tr>\n",
       "    <tr>\n",
       "      <th>3</th>\n",
       "      <td>2011-01-20 03:00:00</td>\n",
       "      <td>0</td>\n",
       "    </tr>\n",
       "    <tr>\n",
       "      <th>4</th>\n",
       "      <td>2011-01-20 04:00:00</td>\n",
       "      <td>0</td>\n",
       "    </tr>\n",
       "  </tbody>\n",
       "</table>\n",
       "</div>"
      ],
      "text/plain": [
       "              datetime  count\n",
       "0  2011-01-20 00:00:00      0\n",
       "1  2011-01-20 01:00:00      0\n",
       "2  2011-01-20 02:00:00      0\n",
       "3  2011-01-20 03:00:00      0\n",
       "4  2011-01-20 04:00:00      0"
      ]
     },
     "execution_count": 8,
     "metadata": {},
     "output_type": "execute_result"
    }
   ],
   "source": [
    "submission_df = pd.read_csv(\"./sampleSubmission.csv\")\n",
    "submission_df.head()"
   ]
  },
  {
   "cell_type": "markdown",
   "metadata": {},
   "source": [
    "### RMSLE 함수 테스트"
   ]
  },
  {
   "cell_type": "code",
   "execution_count": 9,
   "metadata": {},
   "outputs": [
    {
     "data": {
      "text/plain": [
       "3.7498827279454301"
      ]
     },
     "execution_count": 9,
     "metadata": {},
     "output_type": "execute_result"
    }
   ],
   "source": [
    "rmsle(submission_df[\"count\"].values, \n",
    "      np.random.randint(0, 100, size=len(submission_df)))"
   ]
  },
  {
   "cell_type": "markdown",
   "metadata": {},
   "source": [
    "### 쓸모 없는 데이터 제거"
   ]
  },
  {
   "cell_type": "code",
   "execution_count": 10,
   "metadata": {},
   "outputs": [],
   "source": [
    "del all_df[\"casual\"]\n",
    "del all_df[\"registered\"]\n",
    "del all_df[\"index\"]"
   ]
  },
  {
   "cell_type": "markdown",
   "metadata": {},
   "source": [
    "### get_dummies를 사용해 숫자로 표현된 계절, 날씨 정보 전처리"
   ]
  },
  {
   "cell_type": "code",
   "execution_count": 11,
   "metadata": {
    "scrolled": true
   },
   "outputs": [
    {
     "data": {
      "text/html": [
       "<div>\n",
       "<style>\n",
       "    .dataframe thead tr:only-child th {\n",
       "        text-align: right;\n",
       "    }\n",
       "\n",
       "    .dataframe thead th {\n",
       "        text-align: left;\n",
       "    }\n",
       "\n",
       "    .dataframe tbody tr th {\n",
       "        vertical-align: top;\n",
       "    }\n",
       "</style>\n",
       "<table border=\"1\" class=\"dataframe\">\n",
       "  <thead>\n",
       "    <tr style=\"text-align: right;\">\n",
       "      <th></th>\n",
       "      <th>atemp</th>\n",
       "      <th>count</th>\n",
       "      <th>datetime</th>\n",
       "      <th>holiday</th>\n",
       "      <th>humidity</th>\n",
       "      <th>season</th>\n",
       "      <th>temp</th>\n",
       "      <th>weather</th>\n",
       "      <th>windspeed</th>\n",
       "      <th>workingday</th>\n",
       "      <th>season_1</th>\n",
       "      <th>season_2</th>\n",
       "      <th>season_3</th>\n",
       "      <th>season_4</th>\n",
       "    </tr>\n",
       "  </thead>\n",
       "  <tbody>\n",
       "    <tr>\n",
       "      <th>0</th>\n",
       "      <td>14.395</td>\n",
       "      <td>16.0</td>\n",
       "      <td>2011-01-01 00:00:00</td>\n",
       "      <td>0</td>\n",
       "      <td>81</td>\n",
       "      <td>1</td>\n",
       "      <td>9.84</td>\n",
       "      <td>1</td>\n",
       "      <td>0.0</td>\n",
       "      <td>0</td>\n",
       "      <td>1</td>\n",
       "      <td>0</td>\n",
       "      <td>0</td>\n",
       "      <td>0</td>\n",
       "    </tr>\n",
       "    <tr>\n",
       "      <th>1</th>\n",
       "      <td>13.635</td>\n",
       "      <td>40.0</td>\n",
       "      <td>2011-01-01 01:00:00</td>\n",
       "      <td>0</td>\n",
       "      <td>80</td>\n",
       "      <td>1</td>\n",
       "      <td>9.02</td>\n",
       "      <td>1</td>\n",
       "      <td>0.0</td>\n",
       "      <td>0</td>\n",
       "      <td>1</td>\n",
       "      <td>0</td>\n",
       "      <td>0</td>\n",
       "      <td>0</td>\n",
       "    </tr>\n",
       "    <tr>\n",
       "      <th>2</th>\n",
       "      <td>13.635</td>\n",
       "      <td>32.0</td>\n",
       "      <td>2011-01-01 02:00:00</td>\n",
       "      <td>0</td>\n",
       "      <td>80</td>\n",
       "      <td>1</td>\n",
       "      <td>9.02</td>\n",
       "      <td>1</td>\n",
       "      <td>0.0</td>\n",
       "      <td>0</td>\n",
       "      <td>1</td>\n",
       "      <td>0</td>\n",
       "      <td>0</td>\n",
       "      <td>0</td>\n",
       "    </tr>\n",
       "    <tr>\n",
       "      <th>3</th>\n",
       "      <td>14.395</td>\n",
       "      <td>13.0</td>\n",
       "      <td>2011-01-01 03:00:00</td>\n",
       "      <td>0</td>\n",
       "      <td>75</td>\n",
       "      <td>1</td>\n",
       "      <td>9.84</td>\n",
       "      <td>1</td>\n",
       "      <td>0.0</td>\n",
       "      <td>0</td>\n",
       "      <td>1</td>\n",
       "      <td>0</td>\n",
       "      <td>0</td>\n",
       "      <td>0</td>\n",
       "    </tr>\n",
       "    <tr>\n",
       "      <th>4</th>\n",
       "      <td>14.395</td>\n",
       "      <td>1.0</td>\n",
       "      <td>2011-01-01 04:00:00</td>\n",
       "      <td>0</td>\n",
       "      <td>75</td>\n",
       "      <td>1</td>\n",
       "      <td>9.84</td>\n",
       "      <td>1</td>\n",
       "      <td>0.0</td>\n",
       "      <td>0</td>\n",
       "      <td>1</td>\n",
       "      <td>0</td>\n",
       "      <td>0</td>\n",
       "      <td>0</td>\n",
       "    </tr>\n",
       "  </tbody>\n",
       "</table>\n",
       "</div>"
      ],
      "text/plain": [
       "    atemp  count            datetime  holiday  humidity  season  temp  \\\n",
       "0  14.395   16.0 2011-01-01 00:00:00        0        81       1  9.84   \n",
       "1  13.635   40.0 2011-01-01 01:00:00        0        80       1  9.02   \n",
       "2  13.635   32.0 2011-01-01 02:00:00        0        80       1  9.02   \n",
       "3  14.395   13.0 2011-01-01 03:00:00        0        75       1  9.84   \n",
       "4  14.395    1.0 2011-01-01 04:00:00        0        75       1  9.84   \n",
       "\n",
       "   weather  windspeed  workingday  season_1  season_2  season_3  season_4  \n",
       "0        1        0.0           0         1         0         0         0  \n",
       "1        1        0.0           0         1         0         0         0  \n",
       "2        1        0.0           0         1         0         0         0  \n",
       "3        1        0.0           0         1         0         0         0  \n",
       "4        1        0.0           0         1         0         0         0  "
      ]
     },
     "execution_count": 11,
     "metadata": {},
     "output_type": "execute_result"
    }
   ],
   "source": [
    "pre_df = all_df.merge(pd.get_dummies(all_df[\"season\"],\n",
    "                                     prefix=\"season\"),\n",
    "                     left_index=True,\n",
    "                     right_index=True,)\n",
    "pre_df.head()"
   ]
  },
  {
   "cell_type": "code",
   "execution_count": 12,
   "metadata": {
    "scrolled": true
   },
   "outputs": [
    {
     "data": {
      "text/html": [
       "<div>\n",
       "<style>\n",
       "    .dataframe thead tr:only-child th {\n",
       "        text-align: right;\n",
       "    }\n",
       "\n",
       "    .dataframe thead th {\n",
       "        text-align: left;\n",
       "    }\n",
       "\n",
       "    .dataframe tbody tr th {\n",
       "        vertical-align: top;\n",
       "    }\n",
       "</style>\n",
       "<table border=\"1\" class=\"dataframe\">\n",
       "  <thead>\n",
       "    <tr style=\"text-align: right;\">\n",
       "      <th></th>\n",
       "      <th>atemp</th>\n",
       "      <th>count</th>\n",
       "      <th>datetime</th>\n",
       "      <th>holiday</th>\n",
       "      <th>humidity</th>\n",
       "      <th>season</th>\n",
       "      <th>temp</th>\n",
       "      <th>weather</th>\n",
       "      <th>windspeed</th>\n",
       "      <th>workingday</th>\n",
       "      <th>season_1</th>\n",
       "      <th>season_2</th>\n",
       "      <th>season_3</th>\n",
       "      <th>season_4</th>\n",
       "      <th>weather_1</th>\n",
       "      <th>weather_2</th>\n",
       "      <th>weather_3</th>\n",
       "      <th>weather_4</th>\n",
       "    </tr>\n",
       "  </thead>\n",
       "  <tbody>\n",
       "    <tr>\n",
       "      <th>0</th>\n",
       "      <td>14.395</td>\n",
       "      <td>16.0</td>\n",
       "      <td>2011-01-01 00:00:00</td>\n",
       "      <td>0</td>\n",
       "      <td>81</td>\n",
       "      <td>1</td>\n",
       "      <td>9.84</td>\n",
       "      <td>1</td>\n",
       "      <td>0.0</td>\n",
       "      <td>0</td>\n",
       "      <td>1</td>\n",
       "      <td>0</td>\n",
       "      <td>0</td>\n",
       "      <td>0</td>\n",
       "      <td>1</td>\n",
       "      <td>0</td>\n",
       "      <td>0</td>\n",
       "      <td>0</td>\n",
       "    </tr>\n",
       "    <tr>\n",
       "      <th>1</th>\n",
       "      <td>13.635</td>\n",
       "      <td>40.0</td>\n",
       "      <td>2011-01-01 01:00:00</td>\n",
       "      <td>0</td>\n",
       "      <td>80</td>\n",
       "      <td>1</td>\n",
       "      <td>9.02</td>\n",
       "      <td>1</td>\n",
       "      <td>0.0</td>\n",
       "      <td>0</td>\n",
       "      <td>1</td>\n",
       "      <td>0</td>\n",
       "      <td>0</td>\n",
       "      <td>0</td>\n",
       "      <td>1</td>\n",
       "      <td>0</td>\n",
       "      <td>0</td>\n",
       "      <td>0</td>\n",
       "    </tr>\n",
       "    <tr>\n",
       "      <th>2</th>\n",
       "      <td>13.635</td>\n",
       "      <td>32.0</td>\n",
       "      <td>2011-01-01 02:00:00</td>\n",
       "      <td>0</td>\n",
       "      <td>80</td>\n",
       "      <td>1</td>\n",
       "      <td>9.02</td>\n",
       "      <td>1</td>\n",
       "      <td>0.0</td>\n",
       "      <td>0</td>\n",
       "      <td>1</td>\n",
       "      <td>0</td>\n",
       "      <td>0</td>\n",
       "      <td>0</td>\n",
       "      <td>1</td>\n",
       "      <td>0</td>\n",
       "      <td>0</td>\n",
       "      <td>0</td>\n",
       "    </tr>\n",
       "    <tr>\n",
       "      <th>3</th>\n",
       "      <td>14.395</td>\n",
       "      <td>13.0</td>\n",
       "      <td>2011-01-01 03:00:00</td>\n",
       "      <td>0</td>\n",
       "      <td>75</td>\n",
       "      <td>1</td>\n",
       "      <td>9.84</td>\n",
       "      <td>1</td>\n",
       "      <td>0.0</td>\n",
       "      <td>0</td>\n",
       "      <td>1</td>\n",
       "      <td>0</td>\n",
       "      <td>0</td>\n",
       "      <td>0</td>\n",
       "      <td>1</td>\n",
       "      <td>0</td>\n",
       "      <td>0</td>\n",
       "      <td>0</td>\n",
       "    </tr>\n",
       "    <tr>\n",
       "      <th>4</th>\n",
       "      <td>14.395</td>\n",
       "      <td>1.0</td>\n",
       "      <td>2011-01-01 04:00:00</td>\n",
       "      <td>0</td>\n",
       "      <td>75</td>\n",
       "      <td>1</td>\n",
       "      <td>9.84</td>\n",
       "      <td>1</td>\n",
       "      <td>0.0</td>\n",
       "      <td>0</td>\n",
       "      <td>1</td>\n",
       "      <td>0</td>\n",
       "      <td>0</td>\n",
       "      <td>0</td>\n",
       "      <td>1</td>\n",
       "      <td>0</td>\n",
       "      <td>0</td>\n",
       "      <td>0</td>\n",
       "    </tr>\n",
       "  </tbody>\n",
       "</table>\n",
       "</div>"
      ],
      "text/plain": [
       "    atemp  count            datetime  holiday  humidity  season  temp  \\\n",
       "0  14.395   16.0 2011-01-01 00:00:00        0        81       1  9.84   \n",
       "1  13.635   40.0 2011-01-01 01:00:00        0        80       1  9.02   \n",
       "2  13.635   32.0 2011-01-01 02:00:00        0        80       1  9.02   \n",
       "3  14.395   13.0 2011-01-01 03:00:00        0        75       1  9.84   \n",
       "4  14.395    1.0 2011-01-01 04:00:00        0        75       1  9.84   \n",
       "\n",
       "   weather  windspeed  workingday  season_1  season_2  season_3  season_4  \\\n",
       "0        1        0.0           0         1         0         0         0   \n",
       "1        1        0.0           0         1         0         0         0   \n",
       "2        1        0.0           0         1         0         0         0   \n",
       "3        1        0.0           0         1         0         0         0   \n",
       "4        1        0.0           0         1         0         0         0   \n",
       "\n",
       "   weather_1  weather_2  weather_3  weather_4  \n",
       "0          1          0          0          0  \n",
       "1          1          0          0          0  \n",
       "2          1          0          0          0  \n",
       "3          1          0          0          0  \n",
       "4          1          0          0          0  "
      ]
     },
     "execution_count": 12,
     "metadata": {},
     "output_type": "execute_result"
    }
   ],
   "source": [
    "pre_df = pre_df.merge(pd.get_dummies(all_df[\"weather\"], \n",
    "                                     prefix=\"weather\"), \n",
    "                      left_index=True, \n",
    "                      right_index=True,)\n",
    "pre_df.head()"
   ]
  },
  {
   "cell_type": "markdown",
   "metadata": {},
   "source": [
    "### Datetime 관련 feature 생성"
   ]
  },
  {
   "cell_type": "code",
   "execution_count": 13,
   "metadata": {},
   "outputs": [],
   "source": [
    "pre_df[\"year\"] = pre_df[\"datetime\"].dt.year\n",
    "pre_df[\"month\"] = pre_df[\"datetime\"].dt.month\n",
    "pre_df[\"day\"] = pre_df[\"datetime\"].dt.day\n",
    "pre_df[\"hour\"] = pre_df[\"datetime\"].dt.hour\n",
    "pre_df[\"weekday\"] = pre_df[\"datetime\"].dt.weekday"
   ]
  },
  {
   "cell_type": "markdown",
   "metadata": {},
   "source": [
    "### get_dummies를 사용해 숫자로 표현된 요일 정보 전처리"
   ]
  },
  {
   "cell_type": "code",
   "execution_count": 14,
   "metadata": {},
   "outputs": [
    {
     "data": {
      "text/html": [
       "<div>\n",
       "<style>\n",
       "    .dataframe thead tr:only-child th {\n",
       "        text-align: right;\n",
       "    }\n",
       "\n",
       "    .dataframe thead th {\n",
       "        text-align: left;\n",
       "    }\n",
       "\n",
       "    .dataframe tbody tr th {\n",
       "        vertical-align: top;\n",
       "    }\n",
       "</style>\n",
       "<table border=\"1\" class=\"dataframe\">\n",
       "  <thead>\n",
       "    <tr style=\"text-align: right;\">\n",
       "      <th></th>\n",
       "      <th>atemp</th>\n",
       "      <th>count</th>\n",
       "      <th>datetime</th>\n",
       "      <th>holiday</th>\n",
       "      <th>humidity</th>\n",
       "      <th>season</th>\n",
       "      <th>temp</th>\n",
       "      <th>weather</th>\n",
       "      <th>windspeed</th>\n",
       "      <th>workingday</th>\n",
       "      <th>...</th>\n",
       "      <th>day</th>\n",
       "      <th>hour</th>\n",
       "      <th>weekday</th>\n",
       "      <th>weekday_0</th>\n",
       "      <th>weekday_1</th>\n",
       "      <th>weekday_2</th>\n",
       "      <th>weekday_3</th>\n",
       "      <th>weekday_4</th>\n",
       "      <th>weekday_5</th>\n",
       "      <th>weekday_6</th>\n",
       "    </tr>\n",
       "  </thead>\n",
       "  <tbody>\n",
       "    <tr>\n",
       "      <th>0</th>\n",
       "      <td>14.395</td>\n",
       "      <td>16.0</td>\n",
       "      <td>2011-01-01 00:00:00</td>\n",
       "      <td>0</td>\n",
       "      <td>81</td>\n",
       "      <td>1</td>\n",
       "      <td>9.84</td>\n",
       "      <td>1</td>\n",
       "      <td>0.0</td>\n",
       "      <td>0</td>\n",
       "      <td>...</td>\n",
       "      <td>1</td>\n",
       "      <td>0</td>\n",
       "      <td>5</td>\n",
       "      <td>0</td>\n",
       "      <td>0</td>\n",
       "      <td>0</td>\n",
       "      <td>0</td>\n",
       "      <td>0</td>\n",
       "      <td>1</td>\n",
       "      <td>0</td>\n",
       "    </tr>\n",
       "    <tr>\n",
       "      <th>1</th>\n",
       "      <td>13.635</td>\n",
       "      <td>40.0</td>\n",
       "      <td>2011-01-01 01:00:00</td>\n",
       "      <td>0</td>\n",
       "      <td>80</td>\n",
       "      <td>1</td>\n",
       "      <td>9.02</td>\n",
       "      <td>1</td>\n",
       "      <td>0.0</td>\n",
       "      <td>0</td>\n",
       "      <td>...</td>\n",
       "      <td>1</td>\n",
       "      <td>1</td>\n",
       "      <td>5</td>\n",
       "      <td>0</td>\n",
       "      <td>0</td>\n",
       "      <td>0</td>\n",
       "      <td>0</td>\n",
       "      <td>0</td>\n",
       "      <td>1</td>\n",
       "      <td>0</td>\n",
       "    </tr>\n",
       "    <tr>\n",
       "      <th>2</th>\n",
       "      <td>13.635</td>\n",
       "      <td>32.0</td>\n",
       "      <td>2011-01-01 02:00:00</td>\n",
       "      <td>0</td>\n",
       "      <td>80</td>\n",
       "      <td>1</td>\n",
       "      <td>9.02</td>\n",
       "      <td>1</td>\n",
       "      <td>0.0</td>\n",
       "      <td>0</td>\n",
       "      <td>...</td>\n",
       "      <td>1</td>\n",
       "      <td>2</td>\n",
       "      <td>5</td>\n",
       "      <td>0</td>\n",
       "      <td>0</td>\n",
       "      <td>0</td>\n",
       "      <td>0</td>\n",
       "      <td>0</td>\n",
       "      <td>1</td>\n",
       "      <td>0</td>\n",
       "    </tr>\n",
       "    <tr>\n",
       "      <th>3</th>\n",
       "      <td>14.395</td>\n",
       "      <td>13.0</td>\n",
       "      <td>2011-01-01 03:00:00</td>\n",
       "      <td>0</td>\n",
       "      <td>75</td>\n",
       "      <td>1</td>\n",
       "      <td>9.84</td>\n",
       "      <td>1</td>\n",
       "      <td>0.0</td>\n",
       "      <td>0</td>\n",
       "      <td>...</td>\n",
       "      <td>1</td>\n",
       "      <td>3</td>\n",
       "      <td>5</td>\n",
       "      <td>0</td>\n",
       "      <td>0</td>\n",
       "      <td>0</td>\n",
       "      <td>0</td>\n",
       "      <td>0</td>\n",
       "      <td>1</td>\n",
       "      <td>0</td>\n",
       "    </tr>\n",
       "    <tr>\n",
       "      <th>4</th>\n",
       "      <td>14.395</td>\n",
       "      <td>1.0</td>\n",
       "      <td>2011-01-01 04:00:00</td>\n",
       "      <td>0</td>\n",
       "      <td>75</td>\n",
       "      <td>1</td>\n",
       "      <td>9.84</td>\n",
       "      <td>1</td>\n",
       "      <td>0.0</td>\n",
       "      <td>0</td>\n",
       "      <td>...</td>\n",
       "      <td>1</td>\n",
       "      <td>4</td>\n",
       "      <td>5</td>\n",
       "      <td>0</td>\n",
       "      <td>0</td>\n",
       "      <td>0</td>\n",
       "      <td>0</td>\n",
       "      <td>0</td>\n",
       "      <td>1</td>\n",
       "      <td>0</td>\n",
       "    </tr>\n",
       "  </tbody>\n",
       "</table>\n",
       "<p>5 rows × 30 columns</p>\n",
       "</div>"
      ],
      "text/plain": [
       "    atemp  count            datetime  holiday  humidity  season  temp  \\\n",
       "0  14.395   16.0 2011-01-01 00:00:00        0        81       1  9.84   \n",
       "1  13.635   40.0 2011-01-01 01:00:00        0        80       1  9.02   \n",
       "2  13.635   32.0 2011-01-01 02:00:00        0        80       1  9.02   \n",
       "3  14.395   13.0 2011-01-01 03:00:00        0        75       1  9.84   \n",
       "4  14.395    1.0 2011-01-01 04:00:00        0        75       1  9.84   \n",
       "\n",
       "   weather  windspeed  workingday    ...      day  hour  weekday  weekday_0  \\\n",
       "0        1        0.0           0    ...        1     0        5          0   \n",
       "1        1        0.0           0    ...        1     1        5          0   \n",
       "2        1        0.0           0    ...        1     2        5          0   \n",
       "3        1        0.0           0    ...        1     3        5          0   \n",
       "4        1        0.0           0    ...        1     4        5          0   \n",
       "\n",
       "   weekday_1  weekday_2  weekday_3  weekday_4  weekday_5  weekday_6  \n",
       "0          0          0          0          0          1          0  \n",
       "1          0          0          0          0          1          0  \n",
       "2          0          0          0          0          1          0  \n",
       "3          0          0          0          0          1          0  \n",
       "4          0          0          0          0          1          0  \n",
       "\n",
       "[5 rows x 30 columns]"
      ]
     },
     "execution_count": 14,
     "metadata": {},
     "output_type": "execute_result"
    }
   ],
   "source": [
    "pre_df= pre_df.merge(pd.get_dummies(pre_df[\"weekday\"], \n",
    "                                    prefix=\"weekday\"), \n",
    "                     left_index=True, \n",
    "                     right_index=True,)\n",
    "pre_df.head()"
   ]
  },
  {
   "cell_type": "code",
   "execution_count": 15,
   "metadata": {
    "scrolled": true
   },
   "outputs": [
    {
     "data": {
      "text/plain": [
       "atemp                float64\n",
       "count                float64\n",
       "datetime      datetime64[ns]\n",
       "holiday                int64\n",
       "humidity               int64\n",
       "season                 int64\n",
       "temp                 float64\n",
       "weather                int64\n",
       "windspeed            float64\n",
       "workingday             int64\n",
       "season_1               uint8\n",
       "season_2               uint8\n",
       "season_3               uint8\n",
       "season_4               uint8\n",
       "weather_1              uint8\n",
       "weather_2              uint8\n",
       "weather_3              uint8\n",
       "weather_4              uint8\n",
       "year                   int64\n",
       "month                  int64\n",
       "day                    int64\n",
       "hour                   int64\n",
       "weekday                int64\n",
       "weekday_0              uint8\n",
       "weekday_1              uint8\n",
       "weekday_2              uint8\n",
       "weekday_3              uint8\n",
       "weekday_4              uint8\n",
       "weekday_5              uint8\n",
       "weekday_6              uint8\n",
       "dtype: object"
      ]
     },
     "execution_count": 15,
     "metadata": {},
     "output_type": "execute_result"
    }
   ],
   "source": [
    "pre_df.dtypes"
   ]
  },
  {
   "cell_type": "markdown",
   "metadata": {},
   "source": [
    "### 카테고리 데이터 타입으로 변환"
   ]
  },
  {
   "cell_type": "code",
   "execution_count": 16,
   "metadata": {},
   "outputs": [],
   "source": [
    "category_variable_list = [\n",
    "    \"season\", \"weather\", \"workingday\",\n",
    "    \"season_1\", \"season_2\", \"season_3\", \"season_4\",\n",
    "    \"weather_1\", \"weather_2\", \"weather_3\", \"weather_4\",\n",
    "    \"year\", \"month\", \"day\", \"hour\", \"weekday\",\n",
    "    \"weekday_0\", \"weekday_1\", \"weekday_2\", \"weekday_3\",\n",
    "    \"weekday_4\", \"weekday_5\", \"weekday_6\",\n",
    "]\n",
    "\n",
    "for var_name in category_variable_list:\n",
    "    pre_df[var_name] = pre_df[var_name].astype(\"category\")"
   ]
  },
  {
   "cell_type": "code",
   "execution_count": 17,
   "metadata": {},
   "outputs": [
    {
     "data": {
      "text/plain": [
       "atemp                float64\n",
       "count                float64\n",
       "datetime      datetime64[ns]\n",
       "holiday                int64\n",
       "humidity               int64\n",
       "season              category\n",
       "temp                 float64\n",
       "weather             category\n",
       "windspeed            float64\n",
       "workingday          category\n",
       "season_1            category\n",
       "season_2            category\n",
       "season_3            category\n",
       "season_4            category\n",
       "weather_1           category\n",
       "weather_2           category\n",
       "weather_3           category\n",
       "weather_4           category\n",
       "year                category\n",
       "month               category\n",
       "day                 category\n",
       "hour                category\n",
       "weekday             category\n",
       "weekday_0           category\n",
       "weekday_1           category\n",
       "weekday_2           category\n",
       "weekday_3           category\n",
       "weekday_4           category\n",
       "weekday_5           category\n",
       "weekday_6           category\n",
       "dtype: object"
      ]
     },
     "execution_count": 17,
     "metadata": {},
     "output_type": "execute_result"
    }
   ],
   "source": [
    "pre_df.dtypes"
   ]
  },
  {
   "cell_type": "code",
   "execution_count": 18,
   "metadata": {},
   "outputs": [],
   "source": [
    "train_df = pre_df.iloc[train_index]"
   ]
  },
  {
   "cell_type": "code",
   "execution_count": 19,
   "metadata": {},
   "outputs": [
    {
     "data": {
      "image/png": "[encoded data removed]",
      "text/plain": [
       "<matplotlib.figure.Figure at 0x19945ed4f28>"
      ]
     },
     "metadata": {},
     "output_type": "display_data"
    }
   ],
   "source": [
    "fig, axes = plt.subplots(nrows=3, ncols=3)\n",
    "fig.set_size_inches(12, 5)\n",
    "\n",
    "axes[0][0].bar(train_df[\"year\"], train_df[\"count\"])\n",
    "axes[0][1].bar(train_df[\"weather\"], train_df[\"count\"])\n",
    "axes[0][2].bar(train_df[\"workingday\"], train_df[\"count\"])\n",
    "axes[1][0].bar(train_df[\"holiday\"], train_df[\"count\"])\n",
    "axes[1][1].bar(train_df[\"weekday\"], train_df[\"count\"])\n",
    "axes[1][2].bar(train_df[\"month\"], train_df[\"count\"])\n",
    "axes[2][0].bar(train_df[\"day\"], train_df[\"count\"])\n",
    "axes[2][1].bar(train_df[\"hour\"], train_df[\"count\"])\n",
    "\n",
    "plt.show()"
   ]
  },
  {
   "cell_type": "code",
   "execution_count": 20,
   "metadata": {},
   "outputs": [],
   "source": [
    "serires_data = train_df.groupby([\"month\"])[\"count\"].mean()"
   ]
  },
  {
   "cell_type": "code",
   "execution_count": 21,
   "metadata": {},
   "outputs": [
    {
     "data": {
      "text/plain": [
       "[1, 2, 3, 4, 5]"
      ]
     },
     "execution_count": 21,
     "metadata": {},
     "output_type": "execute_result"
    }
   ],
   "source": [
    "serires_data.index.tolist()[:5]"
   ]
  },
  {
   "cell_type": "code",
   "execution_count": 22,
   "metadata": {},
   "outputs": [
    {
     "data": {
      "image/png": "[encoded data removed]",
      "text/plain": [
       "<matplotlib.figure.Figure at 0x19946578940>"
      ]
     },
     "metadata": {},
     "output_type": "display_data"
    }
   ],
   "source": [
    "fig, ax = plt.subplots()\n",
    "ax.bar(range(len(serires_data)), serires_data)\n",
    "fig.set_size_inches(12,5)\n",
    "plt.show()"
   ]
  },
  {
   "cell_type": "code",
   "execution_count": 23,
   "metadata": {},
   "outputs": [],
   "source": [
    "continuous_variable_list = [\n",
    "    \"temp\",\n",
    "    \"humidity\",\n",
    "    \"windspeed\",\n",
    "    \"atemp\",\n",
    "]"
   ]
  },
  {
   "cell_type": "code",
   "execution_count": 24,
   "metadata": {},
   "outputs": [],
   "source": [
    "season_list = [\n",
    "    'season_1',\n",
    "    'season_2',\n",
    "    'season_3',\n",
    "    'season_4',\n",
    "]\n",
    "weather_list = [\n",
    "    'weather_1',\n",
    "    'weather_2',\n",
    "    'weather_3',\n",
    "    'weather_4',\n",
    "]\n",
    "weekday_list = [\n",
    "    'weekday_0',\n",
    "    'weekday_1',\n",
    "    'weekday_2',\n",
    "    'weekday_3',\n",
    "    'weekday_4',\n",
    "    'weekday_5',\n",
    "    'weekday_6',\n",
    "]"
   ]
  },
  {
   "cell_type": "code",
   "execution_count": 25,
   "metadata": {},
   "outputs": [],
   "source": [
    "category_varialbe_list = [\n",
    "    \"season\",\n",
    "    \"holiday\",\n",
    "    \"workingday\",\n",
    "    \"weather\",\n",
    "    \"weekday\",\n",
    "    \"month\",\n",
    "    \"year\",\n",
    "    \"hour\",\n",
    "]"
   ]
  },
  {
   "cell_type": "code",
   "execution_count": 26,
   "metadata": {},
   "outputs": [
    {
     "data": {
      "text/plain": [
       "['temp',\n",
       " 'humidity',\n",
       " 'windspeed',\n",
       " 'atemp',\n",
       " 'season',\n",
       " 'holiday',\n",
       " 'workingday',\n",
       " 'weather',\n",
       " 'weekday',\n",
       " 'month',\n",
       " 'year',\n",
       " 'hour',\n",
       " ['season_1', 'season_2', 'season_3', 'season_4'],\n",
       " ['weather_1', 'weather_2', 'weather_3', 'weather_4'],\n",
       " ['weekday_0',\n",
       "  'weekday_1',\n",
       "  'weekday_2',\n",
       "  'weekday_3',\n",
       "  'weekday_4',\n",
       "  'weekday_5',\n",
       "  'weekday_6']]"
      ]
     },
     "execution_count": 26,
     "metadata": {},
     "output_type": "execute_result"
    }
   ],
   "source": [
    "all_variable_list = continuous_variable_list + category_varialbe_list\n",
    "all_variable_list.append(season_list)\n",
    "all_variable_list.append(weather_list)\n",
    "all_variable_list.append(weekday_list)\n",
    "\n",
    "all_variable_list"
   ]
  },
  {
   "cell_type": "code",
   "execution_count": 27,
   "metadata": {},
   "outputs": [
    {
     "data": {
      "text/plain": [
       "15"
      ]
     },
     "execution_count": 27,
     "metadata": {},
     "output_type": "execute_result"
    }
   ],
   "source": [
    "number_of_variables = len(all_variable_list)\n",
    "number_of_variables"
   ]
  },
  {
   "cell_type": "code",
   "execution_count": 28,
   "metadata": {},
   "outputs": [],
   "source": [
    "varaible_combinations = []\n",
    "\n",
    "import itertools\n",
    "\n",
    "for L in range(8, number_of_variables + 1):\n",
    "    for subset in itertools.combinations(all_variable_list, L):\n",
    "        temp = []\n",
    "        \n",
    "        for variable in subset:\n",
    "            if isinstance(variable, list):\n",
    "                for value in variable:\n",
    "                    temp.append(value)\n",
    "                    \n",
    "            else:\n",
    "                temp.append(variable)\n",
    "                \n",
    "        varaible_combinations.append(temp)"
   ]
  },
  {
   "cell_type": "code",
   "execution_count": 29,
   "metadata": {},
   "outputs": [
    {
     "data": {
      "text/plain": [
       "16384"
      ]
     },
     "execution_count": 29,
     "metadata": {},
     "output_type": "execute_result"
    }
   ],
   "source": [
    "len(varaible_combinations)"
   ]
  },
  {
   "cell_type": "code",
   "execution_count": 30,
   "metadata": {},
   "outputs": [],
   "source": [
    "del pre_df[\"count\"]"
   ]
  },
  {
   "cell_type": "markdown",
   "metadata": {},
   "source": [
    "### RMSLE의 값이 작은 것을 찾는다\n",
    "Ridge, Lasso, LR 모두 사용"
   ]
  },
  {
   "cell_type": "code",
   "execution_count": 31,
   "metadata": {},
   "outputs": [
    {
     "name": "stdout",
     "output_type": "stream",
     "text": [
      "16384\n",
      "0 0:00:00.653729\n",
      "100 0:01:01.428690\n",
      "200 0:01:07.946634\n",
      "300 0:01:10.930573\n",
      "400 0:00:42.875784\n",
      "500 0:00:30.977720\n",
      "600 0:00:28.730838\n",
      "700 0:00:26.948212\n",
      "800 0:00:31.060057\n",
      "900 0:01:03.414676\n",
      "1000 0:01:14.869315\n",
      "1100 0:01:09.892940\n",
      "1200 0:01:18.703896\n",
      "1300 0:00:57.669996\n",
      "1400 0:00:33.227581\n",
      "1500 0:00:41.940822\n",
      "1600 0:00:26.531076\n",
      "1700 0:00:30.875545\n",
      "1800 0:01:14.676866\n",
      "1900 0:01:29.955670\n",
      "2000 0:01:24.977313\n",
      "2100 0:01:28.579268\n",
      "2200 0:01:26.886915\n",
      "2300 0:01:01.303202\n",
      "2400 0:01:03.753476\n",
      "2500 0:00:57.946268\n",
      "2600 0:00:58.817214\n",
      "2700 0:01:03.207347\n",
      "2800 0:01:11.898766\n",
      "2900 0:01:12.592672\n",
      "3000 0:01:07.000265\n",
      "3100 0:01:08.758588\n",
      "3200 0:01:01.272945\n",
      "3300 0:01:05.938326\n",
      "3400 0:00:57.436380\n",
      "3500 0:00:32.445882\n",
      "3600 0:00:29.326534\n",
      "3700 0:00:28.118772\n",
      "3800 0:00:22.698478\n",
      "3900 0:00:29.774920\n",
      "4000 0:00:47.708319\n",
      "4100 0:01:09.120172\n",
      "4200 0:01:06.470040\n",
      "4300 0:01:21.933356\n",
      "4400 0:01:15.626212\n",
      "4500 0:00:32.508378\n",
      "4600 0:00:37.838401\n",
      "4700 0:00:24.904194\n",
      "4800 0:00:29.088949\n",
      "4900 0:00:57.700253\n",
      "5000 0:01:34.946925\n",
      "5100 0:01:38.809779\n",
      "5200 0:01:27.071428\n",
      "5300 0:00:53.077525\n",
      "5400 0:01:01.166801\n",
      "5500 0:00:51.692196\n",
      "5600 0:00:55.350697\n",
      "5700 0:00:53.439111\n",
      "5800 0:01:17.718839\n",
      "5900 0:01:18.643383\n",
      "6000 0:01:11.444431\n",
      "6100 0:01:01.846817\n",
      "6200 0:00:57.722075\n",
      "6300 0:00:58.480462\n",
      "6400 0:01:35.961246\n",
      "6500 0:01:22.474991\n",
      "6600 0:01:17.427684\n",
      "6700 0:01:21.174973\n",
      "6800 0:01:23.887598\n",
      "6900 0:01:29.234982\n",
      "7000 0:00:32.537642\n",
      "7100 0:00:39.342276\n",
      "7200 0:00:35.240847\n",
      "7300 0:00:30.568521\n",
      "7400 0:00:51.235380\n",
      "7500 0:01:19.076424\n",
      "7600 0:01:25.074011\n",
      "7700 0:01:20.706251\n",
      "7800 0:01:31.637608\n",
      "7900 0:00:50.652084\n",
      "8000 0:00:44.738763\n",
      "8100 0:00:37.525427\n",
      "8200 0:01:02.194514\n",
      "8300 0:01:43.066951\n",
      "8400 0:01:46.452156\n",
      "8500 0:01:34.194989\n",
      "8600 0:01:46.650061\n",
      "8700 0:01:10.905276\n",
      "8800 0:01:13.672466\n",
      "8900 0:01:04.607061\n",
      "9000 0:01:10.247581\n",
      "9100 0:01:19.684489\n",
      "9200 0:01:16.441141\n",
      "9300 0:01:08.426762\n",
      "9400 0:01:08.049801\n",
      "9500 0:00:43.240841\n",
      "9600 0:00:35.923344\n",
      "9700 0:00:40.385862\n",
      "9800 0:00:27.826627\n",
      "9900 0:00:31.456362\n",
      "10000 0:01:11.845200\n",
      "10100 0:01:45.706667\n",
      "10200 0:01:49.040287\n",
      "10300 0:01:07.017127\n",
      "10400 0:00:40.931464\n",
      "10500 0:00:36.216975\n",
      "10600 0:00:57.871869\n",
      "10700 0:02:10.495789\n",
      "10800 0:01:24.655904\n",
      "10900 0:01:08.965419\n",
      "11000 0:01:01.878066\n",
      "11100 0:01:05.833174\n",
      "11200 0:01:41.764951\n",
      "11300 0:01:20.385339\n",
      "11400 0:01:07.009688\n",
      "11500 0:01:40.832469\n",
      "11600 0:01:29.489925\n",
      "11700 0:01:39.425315\n",
      "11800 0:01:31.750699\n",
      "11900 0:01:42.530278\n",
      "12000 0:00:40.905672\n",
      "12100 0:00:53.193062\n",
      "12200 0:00:37.572544\n",
      "12300 0:01:10.766396\n",
      "12400 0:01:32.562155\n",
      "12500 0:01:38.997267\n",
      "12600 0:01:20.625402\n",
      "12700 0:00:50.139165\n",
      "12800 0:01:29.633272\n",
      "12900 0:01:55.535416\n",
      "13000 0:01:49.955409\n",
      "13100 0:01:34.413728\n",
      "13200 0:01:16.938629\n",
      "13300 0:01:18.415224\n",
      "13400 0:01:17.293271\n",
      "13500 0:00:57.222603\n",
      "13600 0:00:53.309162\n",
      "13700 0:00:51.571173\n",
      "13800 0:00:55.306057\n",
      "13900 0:02:19.263591\n",
      "14000 0:01:31.699608\n",
      "14100 0:00:46.889919\n",
      "14200 0:02:01.898607\n",
      "14300 0:01:12.140319\n",
      "14400 0:01:42.742569\n",
      "14500 0:01:33.729738\n",
      "14600 0:01:48.361761\n",
      "14700 0:01:54.664934\n",
      "14800 0:01:38.154067\n",
      "14900 0:00:57.283115\n",
      "15000 0:01:20.617962\n",
      "15100 0:01:55.067192\n",
      "15200 0:01:24.946065\n",
      "15300 0:02:02.633185\n",
      "15400 0:01:31.914874\n",
      "15500 0:00:59.815695\n",
      "15600 0:00:49.821281\n",
      "15700 0:02:00.569825\n",
      "15800 0:01:37.907056\n",
      "15900 0:01:52.404165\n",
      "16000 0:01:51.483589\n",
      "16100 0:01:35.747468\n",
      "16200 0:01:34.002540\n",
      "16300 0:01:48.970847\n"
     ]
    }
   ],
   "source": [
    "from sklearn.linear_model import LinearRegression,Ridge,Lasso\n",
    "from sklearn.preprocessing import StandardScaler\n",
    "from sklearn.model_selection import KFold\n",
    "import datetime\n",
    "\n",
    "kf = KFold(n_splits=10)\n",
    "\n",
    "y = train_df[\"count\"].values\n",
    "final_output = []\n",
    "models = []\n",
    "\n",
    "print(len(varaible_combinations))\n",
    "ts = datetime.datetime.now()\n",
    "\n",
    "for i, combination in enumerate(varaible_combinations):\n",
    "    lr = LinearRegression(n_jobs=8)\n",
    "    ridge = Ridge()\n",
    "    lasso = Lasso()\n",
    "    \n",
    "    lr_result = []\n",
    "    ridge_result = []\n",
    "    lasso_result = []\n",
    "    \n",
    "    target_df = pre_df[combination]\n",
    "    ALL = target_df.values\n",
    "    std = StandardScaler()\n",
    "    std.fit(ALL)\n",
    "    ALL_scaled = std.transform(ALL)\n",
    "    X = ALL_scaled[train_index]\n",
    "    \n",
    "    for train_data_index, test_data_index in kf.split(X):\n",
    "        X_train = X[train_data_index]\n",
    "        X_test = X[test_data_index]\n",
    "        y_train = y[train_data_index]\n",
    "        y_test = y[test_data_index]\n",
    "        \n",
    "        lr.fit(X_train, y_train)\n",
    "        result = rmsle(y_test, lr.predict(X_test))\n",
    "        lr_result.append(result)\n",
    "\n",
    "        ridge.fit(X_train, y_train)\n",
    "        result = rmsle(y_test, ridge.predict(X_test))\n",
    "        ridge_result.append(result)\n",
    "\n",
    "        lasso.fit(X_train, y_train)\n",
    "        result = rmsle(y_test, lasso.predict(X_test))\n",
    "        lasso_result.append(result)\n",
    "    \n",
    "    final_output.append([i, np.mean(lr_result), \n",
    "                         np.mean(ridge_result),\n",
    "                         np.mean(lasso_result)])\n",
    "    models.append([lr, ridge, lasso])\n",
    "    \n",
    "    if i % 100 == 0:\n",
    "        tf = datetime.datetime.now()\n",
    "        te = tf - ts  \n",
    "        print(i, te)\n",
    "        ts = datetime.datetime.now()"
   ]
  },
  {
   "cell_type": "code",
   "execution_count": 32,
   "metadata": {},
   "outputs": [
    {
     "data": {
      "text/html": [
       "<div>\n",
       "<style>\n",
       "    .dataframe thead tr:only-child th {\n",
       "        text-align: right;\n",
       "    }\n",
       "\n",
       "    .dataframe thead th {\n",
       "        text-align: left;\n",
       "    }\n",
       "\n",
       "    .dataframe tbody tr th {\n",
       "        vertical-align: top;\n",
       "    }\n",
       "</style>\n",
       "<table border=\"1\" class=\"dataframe\">\n",
       "  <thead>\n",
       "    <tr style=\"text-align: right;\">\n",
       "      <th></th>\n",
       "      <th>combination</th>\n",
       "      <th>lr</th>\n",
       "      <th>ridge</th>\n",
       "      <th>lasso</th>\n",
       "    </tr>\n",
       "  </thead>\n",
       "  <tbody>\n",
       "    <tr>\n",
       "      <th>0</th>\n",
       "      <td>0</td>\n",
       "      <td>1.453390</td>\n",
       "      <td>1.452092</td>\n",
       "      <td>1.439138</td>\n",
       "    </tr>\n",
       "    <tr>\n",
       "      <th>1</th>\n",
       "      <td>1</td>\n",
       "      <td>1.457821</td>\n",
       "      <td>1.456870</td>\n",
       "      <td>1.441897</td>\n",
       "    </tr>\n",
       "    <tr>\n",
       "      <th>2</th>\n",
       "      <td>2</td>\n",
       "      <td>1.465858</td>\n",
       "      <td>1.465260</td>\n",
       "      <td>1.455254</td>\n",
       "    </tr>\n",
       "    <tr>\n",
       "      <th>3</th>\n",
       "      <td>3</td>\n",
       "      <td>1.423371</td>\n",
       "      <td>1.423143</td>\n",
       "      <td>1.417983</td>\n",
       "    </tr>\n",
       "    <tr>\n",
       "      <th>4</th>\n",
       "      <td>4</td>\n",
       "      <td>1.306359</td>\n",
       "      <td>1.304990</td>\n",
       "      <td>1.288698</td>\n",
       "    </tr>\n",
       "  </tbody>\n",
       "</table>\n",
       "</div>"
      ],
      "text/plain": [
       "   combination        lr     ridge     lasso\n",
       "0            0  1.453390  1.452092  1.439138\n",
       "1            1  1.457821  1.456870  1.441897\n",
       "2            2  1.465858  1.465260  1.455254\n",
       "3            3  1.423371  1.423143  1.417983\n",
       "4            4  1.306359  1.304990  1.288698"
      ]
     },
     "execution_count": 32,
     "metadata": {},
     "output_type": "execute_result"
    }
   ],
   "source": [
    "labels = [\n",
    "    \"combination\",\n",
    "    \"lr\",\n",
    "    \"ridge\",\n",
    "    \"lasso\",\n",
    "]\n",
    "\n",
    "from pandas import DataFrame\n",
    "\n",
    "result_df = DataFrame(final_output, columns=labels)\n",
    "result_df.head()"
   ]
  },
  {
   "cell_type": "code",
   "execution_count": 33,
   "metadata": {},
   "outputs": [
    {
     "data": {
      "text/plain": [
       "combination    0.000000\n",
       "lr             1.259173\n",
       "ridge          1.258814\n",
       "lasso          1.254718\n",
       "dtype: float64"
      ]
     },
     "execution_count": 33,
     "metadata": {},
     "output_type": "execute_result"
    }
   ],
   "source": [
    "result_df.min()"
   ]
  },
  {
   "cell_type": "code",
   "execution_count": 34,
   "metadata": {},
   "outputs": [
    {
     "data": {
      "text/plain": [
       "4752     1.254718\n",
       "4641     1.254737\n",
       "10458    1.254737\n",
       "4696     1.254737\n",
       "4661     1.254758\n",
       "Name: lasso, dtype: float64"
      ]
     },
     "execution_count": 34,
     "metadata": {},
     "output_type": "execute_result"
    }
   ],
   "source": [
    "result_df[\"lasso\"].sort_values().head()"
   ]
  },
  {
   "cell_type": "code",
   "execution_count": 35,
   "metadata": {},
   "outputs": [
    {
     "data": {
      "text/plain": [
       "['humidity',\n",
       " 'atemp',\n",
       " 'workingday',\n",
       " 'weather',\n",
       " 'weekday',\n",
       " 'hour',\n",
       " 'weather_1',\n",
       " 'weather_2',\n",
       " 'weather_3',\n",
       " 'weather_4',\n",
       " 'weekday_0',\n",
       " 'weekday_1',\n",
       " 'weekday_2',\n",
       " 'weekday_3',\n",
       " 'weekday_4',\n",
       " 'weekday_5',\n",
       " 'weekday_6']"
      ]
     },
     "execution_count": 35,
     "metadata": {},
     "output_type": "execute_result"
    }
   ],
   "source": [
    "varaible_combinations[4752]"
   ]
  },
  {
   "cell_type": "code",
   "execution_count": 36,
   "metadata": {},
   "outputs": [
    {
     "data": {
      "text/plain": [
       "(6493, 17)"
      ]
     },
     "execution_count": 36,
     "metadata": {},
     "output_type": "execute_result"
    }
   ],
   "source": [
    "target_df = pre_df[varaible_combinations[4752]]\n",
    "ALL = target_df.values\n",
    "std = StandardScaler()\n",
    "std.fit(ALL)\n",
    "ALL_scaled = std.transform(ALL)\n",
    "X_submission_test = ALL_scaled[test_index]\n",
    "X_submission_test.shape"
   ]
  },
  {
   "cell_type": "code",
   "execution_count": 37,
   "metadata": {},
   "outputs": [
    {
     "data": {
      "text/plain": [
       "array([[-0.34847267, -1.44592342,  0.68170976, ..., -0.40865929,\n",
       "        -0.41105331, -0.41009641],\n",
       "       [-0.34847267, -1.18173227,  0.68170976, ..., -0.40865929,\n",
       "        -0.41105331, -0.41009641],\n",
       "       [-0.34847267, -1.18173227,  0.68170976, ..., -0.40865929,\n",
       "        -0.41105331, -0.41009641],\n",
       "       ..., \n",
       "       [-0.14113744, -1.26960201,  0.68170976, ..., -0.40865929,\n",
       "        -0.41105331, -0.41009641],\n",
       "       [-0.34847267, -1.18173227,  0.68170976, ..., -0.40865929,\n",
       "        -0.41105331, -0.41009641],\n",
       "       [ 0.11803159, -1.18173227,  0.68170976, ..., -0.40865929,\n",
       "        -0.41105331, -0.41009641]])"
      ]
     },
     "execution_count": 37,
     "metadata": {},
     "output_type": "execute_result"
    }
   ],
   "source": [
    "X_submission_test"
   ]
  },
  {
   "cell_type": "code",
   "execution_count": 38,
   "metadata": {},
   "outputs": [
    {
     "data": {
      "text/plain": [
       "Lasso(alpha=1.0, copy_X=True, fit_intercept=True, max_iter=1000,\n",
       "   normalize=False, positive=False, precompute=False, random_state=None,\n",
       "   selection='cyclic', tol=0.0001, warm_start=False)"
      ]
     },
     "execution_count": 38,
     "metadata": {},
     "output_type": "execute_result"
    }
   ],
   "source": [
    "models[4752][2]"
   ]
  },
  {
   "cell_type": "code",
   "execution_count": 39,
   "metadata": {},
   "outputs": [],
   "source": [
    "final_result = models[4752][2].predict(X_submission_test)\n",
    "final_result[final_result < 0] = 0"
   ]
  },
  {
   "cell_type": "code",
   "execution_count": 40,
   "metadata": {},
   "outputs": [
    {
     "data": {
      "text/plain": [
       "array([  13.872059  ,   38.74604771,   46.13213347, ...,  169.7221112 ,\n",
       "        190.73140758,  180.55230694])"
      ]
     },
     "execution_count": 40,
     "metadata": {},
     "output_type": "execute_result"
    }
   ],
   "source": [
    "final_result"
   ]
  },
  {
   "cell_type": "code",
   "execution_count": 41,
   "metadata": {},
   "outputs": [
    {
     "data": {
      "text/plain": [
       "10886   2011-01-20 00:00:00\n",
       "10887   2011-01-20 01:00:00\n",
       "10888   2011-01-20 02:00:00\n",
       "10889   2011-01-20 03:00:00\n",
       "10890   2011-01-20 04:00:00\n",
       "Name: datetime, dtype: datetime64[ns]"
      ]
     },
     "execution_count": 41,
     "metadata": {},
     "output_type": "execute_result"
    }
   ],
   "source": [
    "pre_df.iloc[test_index][\"datetime\"].head()"
   ]
  },
  {
   "cell_type": "code",
   "execution_count": 42,
   "metadata": {},
   "outputs": [
    {
     "data": {
      "text/html": [
       "<div>\n",
       "<style>\n",
       "    .dataframe thead tr:only-child th {\n",
       "        text-align: right;\n",
       "    }\n",
       "\n",
       "    .dataframe thead th {\n",
       "        text-align: left;\n",
       "    }\n",
       "\n",
       "    .dataframe tbody tr th {\n",
       "        vertical-align: top;\n",
       "    }\n",
       "</style>\n",
       "<table border=\"1\" class=\"dataframe\">\n",
       "  <thead>\n",
       "    <tr style=\"text-align: right;\">\n",
       "      <th></th>\n",
       "      <th>datetime</th>\n",
       "      <th>count</th>\n",
       "    </tr>\n",
       "  </thead>\n",
       "  <tbody>\n",
       "    <tr>\n",
       "      <th>10886</th>\n",
       "      <td>2011-01-20 00:00:00</td>\n",
       "      <td>13.872059</td>\n",
       "    </tr>\n",
       "    <tr>\n",
       "      <th>10887</th>\n",
       "      <td>2011-01-20 01:00:00</td>\n",
       "      <td>38.746048</td>\n",
       "    </tr>\n",
       "    <tr>\n",
       "      <th>10888</th>\n",
       "      <td>2011-01-20 02:00:00</td>\n",
       "      <td>46.132133</td>\n",
       "    </tr>\n",
       "    <tr>\n",
       "      <th>10889</th>\n",
       "      <td>2011-01-20 03:00:00</td>\n",
       "      <td>47.701758</td>\n",
       "    </tr>\n",
       "    <tr>\n",
       "      <th>10890</th>\n",
       "      <td>2011-01-20 04:00:00</td>\n",
       "      <td>55.087844</td>\n",
       "    </tr>\n",
       "  </tbody>\n",
       "</table>\n",
       "</div>"
      ],
      "text/plain": [
       "                 datetime      count\n",
       "10886 2011-01-20 00:00:00  13.872059\n",
       "10887 2011-01-20 01:00:00  38.746048\n",
       "10888 2011-01-20 02:00:00  46.132133\n",
       "10889 2011-01-20 03:00:00  47.701758\n",
       "10890 2011-01-20 04:00:00  55.087844"
      ]
     },
     "execution_count": 42,
     "metadata": {},
     "output_type": "execute_result"
    }
   ],
   "source": [
    "data = {\"datetime\": pre_df.iloc[test_index][\"datetime\"], \"count\": final_result}\n",
    "df_submission = DataFrame(data, columns=[\"datetime\", \"count\"])\n",
    "df_submission.head()"
   ]
  },
  {
   "cell_type": "code",
   "execution_count": 43,
   "metadata": {},
   "outputs": [],
   "source": [
    "df_submission.set_index(\"datetime\").to_csv(\"submission_lasso_data.csv\")"
   ]
  }
 ],
 "metadata": {
  "kernelspec": {
   "display_name": "Python 3",
   "language": "python",
   "name": "python3"
  },
  "language_info": {
   "codemirror_mode": {
    "name": "ipython",
    "version": 3
   },
   "file_extension": ".py",
   "mimetype": "text/x-python",
   "name": "python",
   "nbconvert_exporter": "python",
   "pygments_lexer": "ipython3",
   "version": "3.6.5"
  }
 },
 "nbformat": 4,
 "nbformat_minor": 2
}
