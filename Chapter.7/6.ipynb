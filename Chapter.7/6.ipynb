{
 "cells": [
  {
   "cell_type": "markdown",
   "metadata": {},
   "source": [
    "Chapter 7<br/>\n",
    "< Linear Regression with GD & Implementation >\n",
    "===============================\n",
    "\n",
    "\n",
    "### Linear regression with GD\n",
    "- 임의의 θ₀,θ₁값으로 초기화\n",
    "- Cost function J(θ₀,θ₁)이 최소화 될 때까지 학습\n",
    "- 더 이상 cost function이 줄어들지 않ㅇ거나 학습 횟수를 초과할 때 종료\n",
    "\n",
    "<img src=\"https://github.com/alstn2468/Python_For_Machine_Learning/blob/master/Chapter.7/img/19.png\" width=\"300\" height=\"auto\">\n",
    "\n",
    "- "
   ]
  },
  {
   "cell_type": "code",
   "execution_count": null,
   "metadata": {},
   "outputs": [],
   "source": []
  }
 ],
 "metadata": {
  "kernelspec": {
   "display_name": "Python 3",
   "language": "python",
   "name": "python3"
  },
  "language_info": {
   "codemirror_mode": {
    "name": "ipython",
    "version": 3
   },
   "file_extension": ".py",
   "mimetype": "text/x-python",
   "name": "python",
   "nbconvert_exporter": "python",
   "pygments_lexer": "ipython3",
   "version": "3.6.5"
  }
 },
 "nbformat": 4,
 "nbformat_minor": 2
}
