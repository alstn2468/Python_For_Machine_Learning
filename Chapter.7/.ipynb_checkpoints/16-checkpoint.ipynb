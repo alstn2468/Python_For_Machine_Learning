{
 "cells": [
  {
   "cell_type": "markdown",
   "metadata": {},
   "source": [
    "Chapter 7<br/>\n",
    "< Performance measure techniques >\n",
    "===============================\n",
    "\n",
    "<br/>\n",
    "\n",
    "### Holdout Method (Sampling)\n",
    "- 데이터를 Training과 Test와 나눠서 모델을<br/>\n",
    "생성하고 테스트하는 기법\n",
    "- 가장 일반적인 모델 생성을 위한 데이터 랜덤 샘플링 기법\n",
    "- Training과 Test를 나누는 비율은 데이터의 크기에 따라 다름"
   ]
  },
  {
   "cell_type": "code",
   "execution_count": 1,
   "metadata": {},
   "outputs": [],
   "source": [
    "import numpy as np\n",
    "from sklearn.model_selection import train_test_split"
   ]
  },
  {
   "cell_type": "code",
   "execution_count": 2,
   "metadata": {},
   "outputs": [],
   "source": [
    "X, y = np.arange(10).reshape((5, 2)), range(5)"
   ]
  },
  {
   "cell_type": "code",
   "execution_count": 3,
   "metadata": {},
   "outputs": [],
   "source": [
    "X_train, X_test, y_train, y_test = train_test_split(X, y,\n",
    "                                                   test_size=0.44,\n",
    "                                                   random_state=42)"
   ]
  },
  {
   "cell_type": "markdown",
   "metadata": {},
   "source": [
    "### 성능 측정을 위해 데이터를 나누는 방법\n",
    "- Training : Model Building\n",
    "- Validation : Model Check\n",
    "- Test : Model Evaluation"
   ]
  },
  {
   "cell_type": "markdown",
   "metadata": {},
   "source": [
    "### Validation Set\n",
    "- Test Set은 Model이 생성시 절대 Training Set에 포함되지 않아야 함\n",
    "- Test Set과 달리 Model 생성시 Model에 성능을 평가하기 위해 사용\n",
    "- Hyper Parameter Turning 시 성능 평가를 위해 Overfitting 방지\n",
    "- Training 중간에 Model의 성능을 점검\n",
    "\n",
    "### K-fold cross validation\n",
    "- 학습 데이터를 K번 나눠서 Test와 Train을 실시 -> Test의 평균값을 사용\n",
    "- 모델의 Parameter 튜닝, 간단한 모델의 최종 성능 측정등 사용"
   ]
  },
  {
   "cell_type": "code",
   "execution_count": 4,
   "metadata": {},
   "outputs": [],
   "source": [
    "from sklearn import datasets\n",
    "\n",
    "boston = datasets.load_boston()"
   ]
  },
  {
   "cell_type": "code",
   "execution_count": 5,
   "metadata": {},
   "outputs": [],
   "source": [
    "X = boston.data\n",
    "y = boston.target"
   ]
  },
  {
   "cell_type": "code",
   "execution_count": 6,
   "metadata": {},
   "outputs": [
    {
     "name": "stdout",
     "output_type": "stream",
     "text": [
      "TRAIN -  455\n",
      "TEST -  51\n",
      "TRAIN -  455\n",
      "TEST -  51\n",
      "TRAIN -  455\n",
      "TEST -  51\n",
      "TRAIN -  455\n",
      "TEST -  51\n",
      "TRAIN -  455\n",
      "TEST -  51\n",
      "TRAIN -  455\n",
      "TEST -  51\n",
      "TRAIN -  456\n",
      "TEST -  50\n",
      "TRAIN -  456\n",
      "TEST -  50\n",
      "TRAIN -  456\n",
      "TEST -  50\n",
      "TRAIN -  456\n",
      "TEST -  50\n"
     ]
    }
   ],
   "source": [
    "from sklearn.model_selection import KFold\n",
    "\n",
    "kf = KFold(n_splits=10, shuffle=True)\n",
    "\n",
    "for train_index, test_index in kf.split(X):\n",
    "    print(\"TRAIN - \", len(train_index))\n",
    "    print(\"TEST - \",  len(test_index))"
   ]
  },
  {
   "cell_type": "code",
   "execution_count": 7,
   "metadata": {},
   "outputs": [],
   "source": [
    "from sklearn.linear_model import Lasso, Ridge\n",
    "from sklearn.metrics import mean_squared_error\n",
    "\n",
    "kf = KFold(n_splits=10)\n",
    "lasso_regressor = Lasso()\n",
    "ridge_regressor = Ridge()\n",
    "\n",
    "lasso_mse = []\n",
    "ridge_mse = []\n",
    "\n",
    "for train_index, test_index in kf.split(X):\n",
    "    lasso_regressor.fit(X[train_index], y[train_index])\n",
    "    ridge_regressor.fit(X[train_index], y[train_index])\n",
    "    \n",
    "    lasso_mse.append(mean_squared_error(y[test_index], lasso_regressor.predict(X[test_index])))\n",
    "    ridge_mse.append(mean_squared_error(y[test_index], ridge_regressor.predict(X[test_index])))"
   ]
  },
  {
   "cell_type": "code",
   "execution_count": 8,
   "metadata": {},
   "outputs": [
    {
     "data": {
      "text/plain": [
       "(34.468098837801122, 34.135235282917371)"
      ]
     },
     "execution_count": 8,
     "metadata": {},
     "output_type": "execute_result"
    }
   ],
   "source": [
    "sum(lasso_mse) / 10, sum(ridge_mse) / 10"
   ]
  },
  {
   "cell_type": "markdown",
   "metadata": {},
   "source": [
    "### K-fold Cross Validation\n",
    "- cross_val_score 함수로 한번에 해결 가능\n",
    "- sklearn응 pipeline등을 위해 \"High is better\"로 처리\n",
    "    + MSE를 Negative로 변환\n",
    "- 이로인해 RMSE를 지원하지 않는다."
   ]
  },
  {
   "cell_type": "code",
   "execution_count": 9,
   "metadata": {},
   "outputs": [
    {
     "data": {
      "text/plain": [
       "(-34.468098837801122, -34.135235282917371)"
      ]
     },
     "execution_count": 9,
     "metadata": {},
     "output_type": "execute_result"
    }
   ],
   "source": [
    "from sklearn.model_selection import cross_val_score\n",
    "import numpy as np \n",
    "\n",
    "lasso_regressor = Lasso(warm_start=False)\n",
    "ridge_regressor = Ridge()\n",
    "\n",
    "lasso_scores = cross_val_score(lasso_regressor, X, y, cv=10, scoring='neg_mean_squared_error')\n",
    "ridge_scores= cross_val_score(ridge_regressor, X, y, cv=10, scoring='neg_mean_squared_error')\n",
    "\n",
    "np.mean(lasso_scores), np.mean(ridge_scores)"
   ]
  },
  {
   "cell_type": "markdown",
   "metadata": {},
   "source": [
    "### Leave One Out (LOO)\n",
    "- Simple cross validation\n",
    "    + k = data size\n",
    "- 한번에 한 개의 데이터만 Test set으로 사용한다.\n",
    "    + 총 k번 iteration"
   ]
  },
  {
   "cell_type": "code",
   "execution_count": 10,
   "metadata": {},
   "outputs": [
    {
     "name": "stdout",
     "output_type": "stream",
     "text": [
      "[1 2 3] [0]\n",
      "[0 2 3] [1]\n",
      "[0 1 3] [2]\n",
      "[0 1 2] [3]\n"
     ]
    }
   ],
   "source": [
    "from sklearn.model_selection import LeaveOneOut\n",
    "\n",
    "test = [1, 2, 3, 4]\n",
    "loo = LeaveOneOut()\n",
    "\n",
    "for train, test in loo.split(test):\n",
    "    print(\"%s %s\" % (train, test))"
   ]
  },
  {
   "cell_type": "code",
   "execution_count": 11,
   "metadata": {},
   "outputs": [
    {
     "data": {
      "text/plain": [
       "(-28.411385916387573, -23.867078861847229)"
      ]
     },
     "execution_count": 11,
     "metadata": {},
     "output_type": "execute_result"
    }
   ],
   "source": [
    "loo = LeaveOneOut()\n",
    "    \n",
    "lasso_scores = cross_val_score(lasso_regressor, \n",
    "                               X, y, cv=loo, \n",
    "                               scoring='neg_mean_squared_error')\n",
    "ridge_scores= cross_val_score(ridge_regressor, \n",
    "                              X, y, cv=loo, \n",
    "                              scoring='neg_mean_squared_error')\n",
    "\n",
    "np.mean(lasso_scores), np.mean(ridge_scores)"
   ]
  },
  {
   "cell_type": "code",
   "execution_count": 12,
   "metadata": {},
   "outputs": [],
   "source": [
    "lasso_scores = cross_val_score(lasso_regressor,\n",
    "                               X, y, cv=kf,\n",
    "                               scoring='neg_mean_squared_error')\n",
    "ridge_scores= cross_val_score(ridge_regressor,\n",
    "                              X, y, cv=kf,\n",
    "                              scoring='neg_mean_squared_error')"
   ]
  },
  {
   "cell_type": "code",
   "execution_count": 14,
   "metadata": {},
   "outputs": [
    {
     "data": {
      "image/png": "[encoded data removed]",
      "text/plain": [
       "<matplotlib.figure.Figure at 0x1f4ddf3c4e0>"
      ]
     },
     "metadata": {},
     "output_type": "display_data"
    },
    {
     "data": {
      "text/plain": [
       "<matplotlib.figure.Figure at 0x1f4ddf3c4a8>"
      ]
     },
     "metadata": {},
     "output_type": "display_data"
    }
   ],
   "source": [
    "import matplotlib.pyplot as plt\n",
    "\n",
    "labels = [\"LASSO\", \"RIDGE\"]\n",
    "plt.boxplot((lasso_scores, ridge_scores), labels=labels)\n",
    "plt.grid(linestyle=\"--\")\n",
    "plt.figure()\n",
    "plt.show()"
   ]
  },
  {
   "cell_type": "markdown",
   "metadata": {},
   "source": [
    "### Validation set for parameter turning\n",
    "- Validation set의 많은 이유중 하나가 Hyper parameter turning\n",
    "- Number of iterations(SGD), Number of branch(Tree-based) etc..\n",
    "- Validation set의 성능으로 최적의 parameter를 찾는다.\n",
    "- Validation set 결과와 Training set 결과의 차이가 벌어지면 overfitting"
   ]
  },
  {
   "cell_type": "code",
   "execution_count": 19,
   "metadata": {},
   "outputs": [],
   "source": [
    "def rmse(predictions, targets):\n",
    "    return np.sqrt(((predictions - targets) ** 2).mean())"
   ]
  },
  {
   "cell_type": "code",
   "execution_count": 20,
   "metadata": {},
   "outputs": [],
   "source": [
    "from sklearn.linear_model import SGDRegressor\n",
    "from sklearn.preprocessing import StandardScaler\n",
    "\n",
    "std = StandardScaler()\n",
    "std.fit(X)\n",
    "X_scaled = std.transform(X)\n",
    "\n",
    "eta0 = 0.01 \n",
    "max_iter = 100"
   ]
  },
  {
   "cell_type": "code",
   "execution_count": 22,
   "metadata": {},
   "outputs": [
    {
     "ename": "TypeError",
     "evalue": "__init__() got an unexpected keyword argument 'max_iter'",
     "output_type": "error",
     "traceback": [
      "\u001b[1;31m---------------------------------------------------------------------------\u001b[0m",
      "\u001b[1;31mTypeError\u001b[0m                                 Traceback (most recent call last)",
      "\u001b[1;32m<ipython-input-22-3fecb40aa43e>\u001b[0m in \u001b[0;36m<module>\u001b[1;34m()\u001b[0m\n\u001b[0;32m     37\u001b[0m                                  \u001b[0mmax_iter\u001b[0m\u001b[1;33m=\u001b[0m\u001b[0mmax_iter\u001b[0m\u001b[1;33m,\u001b[0m\u001b[1;33m\u001b[0m\u001b[0m\n\u001b[0;32m     38\u001b[0m                                  \u001b[0mwarm_start\u001b[0m\u001b[1;33m=\u001b[0m\u001b[1;32mTrue\u001b[0m\u001b[1;33m,\u001b[0m\u001b[1;33m\u001b[0m\u001b[0m\n\u001b[1;32m---> 39\u001b[1;33m                                  learning_rate=\"constant\")\n\u001b[0m\u001b[0;32m     40\u001b[0m \u001b[1;33m\u001b[0m\u001b[0m\n\u001b[0;32m     41\u001b[0m     sgd_regressor.fit(X_train,y_train, \n",
      "\u001b[1;31mTypeError\u001b[0m: __init__() got an unexpected keyword argument 'max_iter'"
     ]
    }
   ],
   "source": [
    "from sklearn.model_selection import train_test_split\n",
    "\n",
    "\n",
    "X_train_dataset, X_test, y_train_dataset, y_test = train_test_split(X_scaled,y, \n",
    "                                                                    test_size=0.2, \n",
    "                                                                    random_state=42)\n",
    "\n",
    "sgd_regressor = SGDRegressor(eta0=eta0, \n",
    "                             max_iter=max_iter, \n",
    "                             warm_start=True, \n",
    "                             learning_rate=\"constant\")\n",
    "\n",
    "rmse_val_score = []\n",
    "rmse_train_score = []\n",
    "model_list = []\n",
    "\n",
    "X_train, X_val, y_train, y_val = train_test_split(X_train_dataset,\n",
    "                                                  y_train_dataset, \n",
    "                                                  test_size=0.2, \n",
    "                                                  random_state=42)\n",
    "sgd_regressor.fit(X_train,y_train)\n",
    "\n",
    "\n",
    "for i in range(300):\n",
    "    y_pred = sgd_regressor.predict(X_train)\n",
    "    y_true = y_train\n",
    "    rmse_train_score.append(rmse(y_pred, y_true))\n",
    "\n",
    "    y_pred = sgd_regressor.predict(X_val)\n",
    "    y_true = y_val\n",
    "    rmse_val_score.append(rmse(y_pred, y_true))\n",
    "    model_list.append(sgd_regressor)\n",
    "\n",
    "    coef = sgd_regressor.coef_.copy()\n",
    "    intercept = sgd_regressor.intercept_.copy()\n",
    "\n",
    "    sgd_regressor = SGDRegressor(eta0=eta0, \n",
    "                                 max_iter=max_iter, \n",
    "                                 warm_start=True, \n",
    "                                 learning_rate=\"constant\")\n",
    "    \n",
    "    sgd_regressor.fit(X_train,y_train, \n",
    "                      coef_init=coef, \n",
    "                      intercept_init=intercept)"
   ]
  },
  {
   "cell_type": "markdown",
   "metadata": {},
   "source": [
    "### Etc...\n",
    "- RepatedKFold - 중복이 포함된 K-Folld 생성\n",
    "- LeavePOut - 한번에 P개를 뽑음(Not LOO for one data)\n",
    "- shuffleSplit - 독립적인(중복되는) 데이터 Sampling\n",
    "- StratifiedKFold - Y값 비율에 따라 뽑음\n",
    "- GroupKFold - 그룹별로 데이터를 Sampling"
   ]
  }
 ],
 "metadata": {
  "kernelspec": {
   "display_name": "Python 3",
   "language": "python",
   "name": "python3"
  },
  "language_info": {
   "codemirror_mode": {
    "name": "ipython",
    "version": 3
   },
   "file_extension": ".py",
   "mimetype": "text/x-python",
   "name": "python",
   "nbconvert_exporter": "python",
   "pygments_lexer": "ipython3",
   "version": "3.6.5"
  }
 },
 "nbformat": 4,
 "nbformat_minor": 2
}
