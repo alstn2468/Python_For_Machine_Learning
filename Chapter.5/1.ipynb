{
 "cells": [
  {
   "cell_type": "markdown",
   "metadata": {},
   "source": [
    "Chapter 5<br/>\n",
    "< Numerical Python - Numpy >\n",
    "===============================\n",
    "\n",
    "\n",
    "### 코드로 방정식 표현하기\n",
    "- 2x₁ + 2x₂ + x₃ = 9<br/>\n",
    "2x₁ - x₂ + 2x₃ = 6<br/>\n",
    "x₁ - x₂ + 2x₃ = 5\n",
    "- [2 2 1 9]<br/>\n",
    "[2 -1 2 5]<br/>\n",
    "[1 -1 2 5]\n",
    "\n",
    "```\n",
    "coefficient_matrix = [[2, 2, 1], [2, -1, 2], [1, -1, 2]]\n",
    "constant_vector = [9, 6, 5]\n",
    "```\n",
    "\n",
    "- 다양한 Matrix 계산을 어떻게 만들 것인가?\n",
    "- 굉장히 큰 Matrix에 대한 표현\n",
    "- 처리 속도 문제 -> 파이썬은 Interpreter 언어\n",
    "> 적절한 패키지를 활용하는 것은 좋은 방법\n",
    "\n",
    "\n",
    "### 파이썬 과학 처리 패키지 : Numpy\n",
    "- Numerical Python\n",
    "- 파이썬의 고성능 과학 계산용 패키지\n",
    "- Matrix와 Vector와 같은 Array연산의 사실상 표준\n",
    "- 한굴로 넘파이로 주로 통칭\n",
    "\n",
    "\n",
    "\n",
    "### Numpy 특징\n",
    "- 일반 `List`에 비해 빠르고, 메모리 효율적\n",
    "- 반복문 없이 데이터 배열에 대한 처리 지원\n",
    "- 선형대수와 관련된 다양한 기능 제공\n",
    "- C, C++, 포트란 등의 언어와 통합 가능\n",
    "\n",
    "\n",
    "### import"
   ]
  },
  {
   "cell_type": "code",
   "execution_count": 1,
   "metadata": {},
   "outputs": [],
   "source": [
    "import numpy as np"
   ]
  },
  {
   "cell_type": "markdown",
   "metadata": {},
   "source": [
    "- `numpy`의 호출 방법\n",
    "- 일반적으로 `numpy는 `np`라는 별칭을 이용해서 호출\n",
    "- 특별한 이유는 없다."
   ]
  },
  {
   "cell_type": "markdown",
   "metadata": {},
   "source": [
    "### Array Creation"
   ]
  },
  {
   "cell_type": "code",
   "execution_count": 2,
   "metadata": {},
   "outputs": [
    {
     "name": "stdout",
     "output_type": "stream",
     "text": [
      "[ 1.  4.  5.  8.]\n"
     ]
    },
    {
     "data": {
      "text/plain": [
       "numpy.float64"
      ]
     },
     "execution_count": 2,
     "metadata": {},
     "output_type": "execute_result"
    }
   ],
   "source": [
    "test_array = np.array([1, 4, 5, 8], float)\n",
    "print(test_array)\n",
    "type(test_array[3])"
   ]
  },
  {
   "cell_type": "markdown",
   "metadata": {},
   "source": [
    "- `numpy`는 `np.array()`함수를 활용하여 배열을 생성 -> ndarray\n",
    "- `numpy`는 하나의 데이터 타입만 배열에 넣을 수 있다.\n",
    "- `List`와 가장 큰 차이점, Dynamic typing not supported\n",
    "- C의 Array를 사용하여 배열을 생성"
   ]
  },
  {
   "cell_type": "code",
   "execution_count": null,
   "metadata": {},
   "outputs": [],
   "source": []
  }
 ],
 "metadata": {
  "kernelspec": {
   "display_name": "Python 3",
   "language": "python",
   "name": "python3"
  },
  "language_info": {
   "codemirror_mode": {
    "name": "ipython",
    "version": 3
   },
   "file_extension": ".py",
   "mimetype": "text/x-python",
   "name": "python",
   "nbconvert_exporter": "python",
   "pygments_lexer": "ipython3",
   "version": "3.6.5"
  }
 },
 "nbformat": 4,
 "nbformat_minor": 2
}
